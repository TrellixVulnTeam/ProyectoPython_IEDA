{
 "cells": [
  {
   "cell_type": "markdown",
   "metadata": {},
   "source": [
    "<h1 style=\"align-text:center;\">Variación del Indicadores entre dos periodos</h1>"
   ]
  },
  {
   "cell_type": "code",
   "execution_count": 3,
   "metadata": {},
   "outputs": [
    {
     "name": "stdout",
     "output_type": "stream",
     "text": [
      "\n",
      "Menú indicadores:\n",
      "1. IPC\n",
      "2. UF\n",
      "3. UTM\n",
      "Ingrese su opción: 1\n",
      "Ingrese año de incio: 2017\n",
      "Ingrese año de termino: 2018\n",
      "¡Archivo generado!\n"
     ]
    }
   ],
   "source": [
    "import requests\n",
    "\n",
    "def menu():\n",
    "    print(\"\\nMenú indicadores:\")\n",
    "    print(\"1. IPC\")\n",
    "    print(\"2. UF\")\n",
    "    print(\"3. UTM\")\n",
    "    return int(input(\"Ingrese su opción: \"))\n",
    "\n",
    "opcion = 4    \n",
    "while opcion != 1 and opcion != 2 and opcion != 3:\n",
    "    opcion = int(menu())\n",
    "\n",
    "if opcion == 1:\n",
    "    indice = \"ipc\"\n",
    "elif opcion == 2:\n",
    "    indice = \"uf\"\n",
    "elif opcion == 3:\n",
    "    indice = \"utm\"\n",
    "\n",
    "year_since = 1\n",
    "year_until = 0\n",
    "\n",
    "while year_since >= year_until:\n",
    "    year_since = int(input(\"Ingrese año de incio: \"))\n",
    "    year_until = int(input(\"Ingrese año de termino: \"))\n",
    "\n",
    "endpoint = \"https://api.sbif.cl/api-sbifv3/recursos_api/\" + indice + \"/periodo/\"\n",
    "apikey = \"1676b1bd9d8078fb2a25735eca7e31d7a53f0b93\"\n",
    "parametros = {\"apikey\": apikey, \"formato\":\"json\"}\n",
    "url = endpoint + str(year_since) + \"/\" + str(year_until)\n",
    "\n",
    "respuesta = requests.get(url, params = parametros)\n",
    "respuesta = respuesta.json()\n",
    "nombre_archivo = indice.upper()\n",
    "archivo = open(nombre_archivo + \".txt\", \"w\")\n",
    "\n",
    "for llave in respuesta[nombre_archivo + \"s\"]:\n",
    "    archivo.write(str(llave) + \"\\n\")\n",
    "archivo.close()\n",
    "print(\"¡Archivo generado!\")"
   ]
  },
  {
   "cell_type": "code",
   "execution_count": 4,
   "metadata": {},
   "outputs": [
    {
     "name": "stdout",
     "output_type": "stream",
     "text": [
      "El promedio de IPC entre el 2017 y el 2018 fue de 0.19\n"
     ]
    }
   ],
   "source": [
    "from ast import literal_eval\n",
    "import statistics\n",
    "\n",
    "lista_valor = list()\n",
    "docu = open(nombre_archivo + \".txt\", \"r\")\n",
    "for linea in docu:\n",
    "    lista = literal_eval(linea)\n",
    "    valor = lista[\"Valor\"].replace(\".\",\"\")\n",
    "    lista_valor.append(float(valor.replace(\",\", \".\")))\n",
    "docu.close()\n",
    "promedio = round(statistics.mean(lista_valor), 2)\n",
    "print(\"El promedio de\", nombre_archivo, \"entre el\", year_since, \"y el\", year_until, \"fue de\", f'{promedio:,.2f}')"
   ]
  }
 ],
 "metadata": {
  "kernelspec": {
   "display_name": "Python 3",
   "language": "python",
   "name": "python3"
  },
  "language_info": {
   "codemirror_mode": {
    "name": "ipython",
    "version": 3
   },
   "file_extension": ".py",
   "mimetype": "text/x-python",
   "name": "python",
   "nbconvert_exporter": "python",
   "pygments_lexer": "ipython3",
   "version": "3.7.4"
  }
 },
 "nbformat": 4,
 "nbformat_minor": 2
}
