{
 "cells": [
  {
   "cell_type": "markdown",
   "metadata": {},
   "source": [
    "<h1 style=\"align-text=center;\">Consulta de Variación del Índice de Precios al Consumidor</h1>"
   ]
  },
  {
   "cell_type": "code",
   "execution_count": 3,
   "metadata": {},
   "outputs": [
    {
     "name": "stdout",
     "output_type": "stream",
     "text": [
      "Ingrese año de incio: 2010\n",
      "Ingrese año de termino: 2011\n"
     ]
    }
   ],
   "source": [
    "import requests\n",
    "\n",
    "year_since = int(input(\"Ingrese año de incio: \"))\n",
    "year_until = int(input(\"Ingrese año de termino: \"))\n",
    "\n",
    "endpoint = \"https://api.sbif.cl/api-sbifv3/recursos_api/ipc/periodo/\"\n",
    "apikey = \"1676b1bd9d8078fb2a25735eca7e31d7a53f0b93\"\n",
    "parametros = {\"apikey\": apikey, \"formato\":\"json\"}\n",
    "url = endpoint + str(year_since) + \"/\" + str(year_until)\n",
    "\n",
    "respuesta = requests.get(url, params = parametros)\n",
    "respuesta = respuesta.json()\n",
    "archivo = open(\"IPC.txt\", \"w\")\n",
    "#archivo.write(respuesta.text)\n",
    "for llave in respuesta[\"IPCs\"]:\n",
    "    archivo.write(str(llave) + \"\\n\")\n",
    "archivo.close()"
   ]
  },
  {
   "cell_type": "code",
   "execution_count": 17,
   "metadata": {},
   "outputs": [
    {
     "name": "stdout",
     "output_type": "stream",
     "text": [
      "0.30833333333333335\n"
     ]
    }
   ],
   "source": [
    "from ast import literal_eval\n",
    "import statistics\n",
    "\n",
    "lista_valor = list()\n",
    "docu = open(\"IPC.txt\", \"r\")\n",
    "for linea in docu:\n",
    "    lista = literal_eval(linea)\n",
    "    lista_valor.append(float(lista[\"Valor\"].replace(\",\", \".\")))\n",
    "docu.close()\n",
    "promedio = statistics.mean(lista_valor)\n",
    "print(promedio)"
   ]
  }
 ],
 "metadata": {
  "kernelspec": {
   "display_name": "Python 3",
   "language": "python",
   "name": "python3"
  },
  "language_info": {
   "codemirror_mode": {
    "name": "ipython",
    "version": 3
   },
   "file_extension": ".py",
   "mimetype": "text/x-python",
   "name": "python",
   "nbconvert_exporter": "python",
   "pygments_lexer": "ipython3",
   "version": "3.7.4"
  }
 },
 "nbformat": 4,
 "nbformat_minor": 2
}
